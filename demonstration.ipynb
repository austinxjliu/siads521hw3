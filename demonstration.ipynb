{
 "cells": [
  {
   "cell_type": "markdown",
   "id": "d838d930",
   "metadata": {},
   "source": [
    "The GitHub repository containing this demonstration notebook and the dashboard notebook can be found at: [https://github.com/austinxjliu/siads521hw3/tree/main#](https://github.com/austinxjliu/siads521hw3/tree/main#)"
   ]
  },
  {
   "cell_type": "markdown",
   "id": "8ead6b11",
   "metadata": {},
   "source": [
    "# Visualization Technique\n",
    "\n",
    "The dataset I am working with contains data about cost of living across the world. The dashboard will contain visualizations that allow for comparisons between countries on various datapoints. To best support this, I will be using a few types of visualizations.\n",
    "\n",
    "Bar chart:\n",
    "- Ideal for comparisons\n",
    "- Can compare between countries on data points within a column\n",
    "\n",
    "Scatter plot:\n",
    "- Ideal for finding trends\n",
    "- Each country will be plotted as a point, with different cost of living prices able to be selected as the x and y-axis\n",
    "\n",
    "Geographic scatter map:\n",
    "- Geographical way of viewing data\n",
    "- Can be used to view geographical trends, such as finding if countries that share a border have similar costs of living\n",
    "\n",
    "Pie chart:\n",
    "- Good for finding compositions of a whole\n",
    "- Used to determine what portion of the total cost of living is contributed by each category of spending in a given country\n",
    "\n",
    "These visualizations compliment each other by focusing on various ways of comparison. There are ways to compare between countries and between categories of spending, and a way to correlate that information geographically.\n",
    "\n",
    "When selecting the visualization library, it needs to be able to support these types of visualizations, as well as the ability to dynamically choose certain fields to look at, otherwise each visualization would be much too crowded."
   ]
  },
  {
   "cell_type": "markdown",
   "id": "96c3c8a8",
   "metadata": {},
   "source": [
    "# Visualization Library\n",
    "\n",
    "The libraries that I settled on using were Dash and Plotly. These are open source libraries from the Plotly team that have enterprise pricing models, and they are easy to install via pip.\n",
    "\n",
    "I chose these libraries since they offer easy yet powerful plotting capabilities via Plotly, and a fairly simple web-based interface for interactivity via Dash. Underneath the hood, the web server is run using Flask and formatted with HTML/CSS.\n",
    "\n",
    "Dash and Plotly are declarative libraries. As a result, the styles of web elements like buttons and drop-down menus is already set, however there is a fair bit of customization possible with the plots themselves and the page layout.\n",
    "\n",
    "Dash/Plotly does integrate with Jupyter in multiple ways. I will be utilizing the tab integration to open the page in its own locally hosted tab. This Jupyter integration as well as the declarative nature is why I chose this framework as opposed to other options available."
   ]
  },
  {
   "cell_type": "markdown",
   "id": "c8f76e6a",
   "metadata": {},
   "source": [
    "# Demonstration\n",
    "\n",
    "The dataset I am using was obtained online from [kaggle](https://www.kaggle.com/datasets/mvieira101/global-cost-of-living/data?select=cost-of-living_v2.csv). The dataset contains data regarding cost of living across the world. In terms of cleanup, there's not too much to do since the dataset itself is quite clean. I did drop any cities where the `data_quality` was 0, to isolate the (majority) of cities where the data quality was considered good. There are also certain cases where care must be taken when plotting to avoid `nan` values in certain fields, but for the most part the dataset is good to go.\n",
    "\n",
    "One quirk of this dataset I did have to contend with is that the useful columns have names ranging from `x1` to `x55`, with the human readable names contained in a table on kaggle. I copied that table and created a csv `headers.csv`, which I have read in as a dataframe and then converted to a numpy array. I then replaced the column names to the descriptive versions. The column name list can later be used to filter the data columns for aggregation."
   ]
  },
  {
   "cell_type": "code",
   "execution_count": 1,
   "id": "3639e3dc",
   "metadata": {},
   "outputs": [
    {
     "name": "stdout",
     "output_type": "stream",
     "text": [
      "['Meal, Inexpensive Restaurant (USD)'\n",
      " 'Meal for 2 People, Mid-range Restaurant, Three-course (USD)'\n",
      " 'McMeal at McDonalds (or Equivalent Combo Meal) (USD)'\n",
      " 'Domestic Beer (0.5 liter draught, in restaurants) (USD)'\n",
      " 'Imported Beer (0.33 liter bottle, in restaurants) (USD)'\n",
      " 'Cappuccino (regular, in restaurants) (USD)'\n",
      " 'Coke/Pepsi (0.33 liter bottle, in restaurants) (USD)'\n",
      " 'Water (0.33 liter bottle, in restaurants) (USD)'\n",
      " 'Milk (regular), (1 liter) (USD)'\n",
      " 'Loaf of Fresh White Bread (500g) (USD)' 'Rice (white), (1kg) (USD)'\n",
      " 'Eggs (regular) (12) (USD)' 'Local Cheese (1kg) (USD)'\n",
      " 'Chicken Fillets (1kg) (USD)'\n",
      " 'Beef Round (1kg) (or Equivalent Back Leg Red Meat) (USD)'\n",
      " 'Apples (1kg) (USD)' 'Banana (1kg) (USD)' 'Oranges (1kg) (USD)'\n",
      " 'Tomato (1kg) (USD)' 'Potato (1kg) (USD)' 'Onion (1kg) (USD)'\n",
      " 'Lettuce (1 head) (USD)' 'Water (1.5 liter bottle, at the market) (USD)'\n",
      " 'Bottle of Wine (Mid-Range, at the market) (USD)'\n",
      " 'Domestic Beer (0.5 liter bottle, at the market) (USD)'\n",
      " 'Imported Beer (0.33 liter bottle, at the market) (USD)'\n",
      " 'Cigarettes 20 Pack (Marlboro) (USD)'\n",
      " 'One-way Ticket (Local Transport) (USD)'\n",
      " 'Monthly Pass (Regular Price) (USD)' 'Taxi Start (Normal Tariff) (USD)'\n",
      " 'Taxi 1km (Normal Tariff) (USD)'\n",
      " 'Taxi 1hour Waiting (Normal Tariff) (USD)' 'Gasoline (1 liter) (USD)'\n",
      " 'Volkswagen Golf 1.4 90 KW Trendline (Or Equivalent New Car) (USD)'\n",
      " 'Toyota Corolla Sedan 1.6l 97kW Comfort (Or Equivalent New Car) (USD)'\n",
      " 'Basic (Electricity, Heating, Cooling, Water, Garbage) for 85m2 Apartment (USD)'\n",
      " '1 min. of Prepaid Mobile Tariff Local (No Discounts or Plans) (USD)'\n",
      " 'Internet (60 Mbps or More, Unlimited Data, Cable/ADSL) (USD)'\n",
      " 'Fitness Club, Monthly Fee for 1 Adult (USD)'\n",
      " 'Tennis Court Rent (1 Hour on Weekend) (USD)'\n",
      " 'Cinema, International Release, 1 Seat (USD)'\n",
      " 'Preschool (or Kindergarten), Full Day, Private, Monthly for 1 Child (USD)'\n",
      " 'International Primary School, Yearly for 1 Child (USD)'\n",
      " '1 Pair of Jeans (Levis 501 Or Similar) (USD)'\n",
      " '1 Summer Dress in a Chain Store (Zara, H&M, ...) (USD)'\n",
      " '1 Pair of Nike Running Shoes (Mid-Range) (USD)'\n",
      " '1 Pair of Men Leather Business Shoes (USD)'\n",
      " 'Apartment (1 bedroom) in City Centre (USD)'\n",
      " 'Apartment (1 bedroom) Outside of Centre (USD)'\n",
      " 'Apartment (3 bedrooms) in City Centre (USD)'\n",
      " 'Apartment (3 bedrooms) Outside of Centre (USD)'\n",
      " 'Price per Square Meter to Buy Apartment in City Centre (USD)'\n",
      " 'Price per Square Meter to Buy Apartment Outside of Centre (USD)'\n",
      " 'Average Monthly Net Salary (After Tax) (USD)'\n",
      " 'Mortgage Interest Rate in Percentages (%), Yearly, for 20 Years Fixed-Rate']\n"
     ]
    },
    {
     "data": {
      "text/html": [
       "<div>\n",
       "<style scoped>\n",
       "    .dataframe tbody tr th:only-of-type {\n",
       "        vertical-align: middle;\n",
       "    }\n",
       "\n",
       "    .dataframe tbody tr th {\n",
       "        vertical-align: top;\n",
       "    }\n",
       "\n",
       "    .dataframe thead th {\n",
       "        text-align: right;\n",
       "    }\n",
       "</style>\n",
       "<table border=\"1\" class=\"dataframe\">\n",
       "  <thead>\n",
       "    <tr style=\"text-align: right;\">\n",
       "      <th></th>\n",
       "      <th>city</th>\n",
       "      <th>country</th>\n",
       "      <th>Meal, Inexpensive Restaurant (USD)</th>\n",
       "      <th>Meal for 2 People, Mid-range Restaurant, Three-course (USD)</th>\n",
       "      <th>McMeal at McDonalds (or Equivalent Combo Meal) (USD)</th>\n",
       "      <th>Domestic Beer (0.5 liter draught, in restaurants) (USD)</th>\n",
       "      <th>Imported Beer (0.33 liter bottle, in restaurants) (USD)</th>\n",
       "      <th>Cappuccino (regular, in restaurants) (USD)</th>\n",
       "      <th>Coke/Pepsi (0.33 liter bottle, in restaurants) (USD)</th>\n",
       "      <th>Water (0.33 liter bottle, in restaurants) (USD)</th>\n",
       "      <th>...</th>\n",
       "      <th>1 Pair of Nike Running Shoes (Mid-Range) (USD)</th>\n",
       "      <th>1 Pair of Men Leather Business Shoes (USD)</th>\n",
       "      <th>Apartment (1 bedroom) in City Centre (USD)</th>\n",
       "      <th>Apartment (1 bedroom) Outside of Centre (USD)</th>\n",
       "      <th>Apartment (3 bedrooms) in City Centre (USD)</th>\n",
       "      <th>Apartment (3 bedrooms) Outside of Centre (USD)</th>\n",
       "      <th>Price per Square Meter to Buy Apartment in City Centre (USD)</th>\n",
       "      <th>Price per Square Meter to Buy Apartment Outside of Centre (USD)</th>\n",
       "      <th>Average Monthly Net Salary (After Tax) (USD)</th>\n",
       "      <th>Mortgage Interest Rate in Percentages (%), Yearly, for 20 Years Fixed-Rate</th>\n",
       "    </tr>\n",
       "  </thead>\n",
       "  <tbody>\n",
       "    <tr>\n",
       "      <th>0</th>\n",
       "      <td>Seoul</td>\n",
       "      <td>South Korea</td>\n",
       "      <td>7.68</td>\n",
       "      <td>53.78</td>\n",
       "      <td>6.15</td>\n",
       "      <td>3.07</td>\n",
       "      <td>4.99</td>\n",
       "      <td>3.93</td>\n",
       "      <td>1.48</td>\n",
       "      <td>0.79</td>\n",
       "      <td>...</td>\n",
       "      <td>70.81</td>\n",
       "      <td>110.36</td>\n",
       "      <td>742.54</td>\n",
       "      <td>557.52</td>\n",
       "      <td>2669.12</td>\n",
       "      <td>1731.08</td>\n",
       "      <td>22067.70</td>\n",
       "      <td>10971.90</td>\n",
       "      <td>2689.62</td>\n",
       "      <td>3.47</td>\n",
       "    </tr>\n",
       "    <tr>\n",
       "      <th>1</th>\n",
       "      <td>Shanghai</td>\n",
       "      <td>China</td>\n",
       "      <td>5.69</td>\n",
       "      <td>39.86</td>\n",
       "      <td>5.69</td>\n",
       "      <td>1.14</td>\n",
       "      <td>4.27</td>\n",
       "      <td>3.98</td>\n",
       "      <td>0.53</td>\n",
       "      <td>0.33</td>\n",
       "      <td>...</td>\n",
       "      <td>88.21</td>\n",
       "      <td>123.51</td>\n",
       "      <td>1091.93</td>\n",
       "      <td>569.88</td>\n",
       "      <td>2952.70</td>\n",
       "      <td>1561.59</td>\n",
       "      <td>17746.11</td>\n",
       "      <td>9416.35</td>\n",
       "      <td>1419.87</td>\n",
       "      <td>5.03</td>\n",
       "    </tr>\n",
       "    <tr>\n",
       "      <th>2</th>\n",
       "      <td>Guangzhou</td>\n",
       "      <td>China</td>\n",
       "      <td>4.13</td>\n",
       "      <td>28.47</td>\n",
       "      <td>4.98</td>\n",
       "      <td>0.85</td>\n",
       "      <td>1.71</td>\n",
       "      <td>3.54</td>\n",
       "      <td>0.44</td>\n",
       "      <td>0.33</td>\n",
       "      <td>...</td>\n",
       "      <td>66.73</td>\n",
       "      <td>43.89</td>\n",
       "      <td>533.28</td>\n",
       "      <td>317.45</td>\n",
       "      <td>1242.24</td>\n",
       "      <td>688.05</td>\n",
       "      <td>12892.82</td>\n",
       "      <td>5427.45</td>\n",
       "      <td>1211.68</td>\n",
       "      <td>5.19</td>\n",
       "    </tr>\n",
       "    <tr>\n",
       "      <th>3</th>\n",
       "      <td>Mumbai</td>\n",
       "      <td>India</td>\n",
       "      <td>3.68</td>\n",
       "      <td>18.42</td>\n",
       "      <td>3.68</td>\n",
       "      <td>2.46</td>\n",
       "      <td>4.30</td>\n",
       "      <td>2.48</td>\n",
       "      <td>0.48</td>\n",
       "      <td>0.19</td>\n",
       "      <td>...</td>\n",
       "      <td>49.87</td>\n",
       "      <td>41.17</td>\n",
       "      <td>522.40</td>\n",
       "      <td>294.05</td>\n",
       "      <td>1411.12</td>\n",
       "      <td>699.80</td>\n",
       "      <td>6092.45</td>\n",
       "      <td>2777.51</td>\n",
       "      <td>640.81</td>\n",
       "      <td>7.96</td>\n",
       "    </tr>\n",
       "    <tr>\n",
       "      <th>4</th>\n",
       "      <td>Delhi</td>\n",
       "      <td>India</td>\n",
       "      <td>4.91</td>\n",
       "      <td>22.11</td>\n",
       "      <td>4.30</td>\n",
       "      <td>1.84</td>\n",
       "      <td>3.68</td>\n",
       "      <td>1.77</td>\n",
       "      <td>0.49</td>\n",
       "      <td>0.19</td>\n",
       "      <td>...</td>\n",
       "      <td>49.99</td>\n",
       "      <td>36.50</td>\n",
       "      <td>229.84</td>\n",
       "      <td>135.31</td>\n",
       "      <td>601.02</td>\n",
       "      <td>329.15</td>\n",
       "      <td>2506.73</td>\n",
       "      <td>1036.74</td>\n",
       "      <td>586.46</td>\n",
       "      <td>8.06</td>\n",
       "    </tr>\n",
       "  </tbody>\n",
       "</table>\n",
       "<p>5 rows × 57 columns</p>\n",
       "</div>"
      ],
      "text/plain": [
       "        city      country  Meal, Inexpensive Restaurant (USD)  \\\n",
       "0      Seoul  South Korea                                7.68   \n",
       "1   Shanghai        China                                5.69   \n",
       "2  Guangzhou        China                                4.13   \n",
       "3     Mumbai        India                                3.68   \n",
       "4      Delhi        India                                4.91   \n",
       "\n",
       "   Meal for 2 People, Mid-range Restaurant, Three-course (USD)  \\\n",
       "0                                              53.78             \n",
       "1                                              39.86             \n",
       "2                                              28.47             \n",
       "3                                              18.42             \n",
       "4                                              22.11             \n",
       "\n",
       "   McMeal at McDonalds (or Equivalent Combo Meal) (USD)  \\\n",
       "0                                               6.15      \n",
       "1                                               5.69      \n",
       "2                                               4.98      \n",
       "3                                               3.68      \n",
       "4                                               4.30      \n",
       "\n",
       "   Domestic Beer (0.5 liter draught, in restaurants) (USD)  \\\n",
       "0                                               3.07         \n",
       "1                                               1.14         \n",
       "2                                               0.85         \n",
       "3                                               2.46         \n",
       "4                                               1.84         \n",
       "\n",
       "   Imported Beer (0.33 liter bottle, in restaurants) (USD)  \\\n",
       "0                                               4.99         \n",
       "1                                               4.27         \n",
       "2                                               1.71         \n",
       "3                                               4.30         \n",
       "4                                               3.68         \n",
       "\n",
       "   Cappuccino (regular, in restaurants) (USD)  \\\n",
       "0                                        3.93   \n",
       "1                                        3.98   \n",
       "2                                        3.54   \n",
       "3                                        2.48   \n",
       "4                                        1.77   \n",
       "\n",
       "   Coke/Pepsi (0.33 liter bottle, in restaurants) (USD)  \\\n",
       "0                                               1.48      \n",
       "1                                               0.53      \n",
       "2                                               0.44      \n",
       "3                                               0.48      \n",
       "4                                               0.49      \n",
       "\n",
       "   Water (0.33 liter bottle, in restaurants) (USD)  ...  \\\n",
       "0                                             0.79  ...   \n",
       "1                                             0.33  ...   \n",
       "2                                             0.33  ...   \n",
       "3                                             0.19  ...   \n",
       "4                                             0.19  ...   \n",
       "\n",
       "   1 Pair of Nike Running Shoes (Mid-Range) (USD)  \\\n",
       "0                                           70.81   \n",
       "1                                           88.21   \n",
       "2                                           66.73   \n",
       "3                                           49.87   \n",
       "4                                           49.99   \n",
       "\n",
       "   1 Pair of Men Leather Business Shoes (USD)  \\\n",
       "0                                      110.36   \n",
       "1                                      123.51   \n",
       "2                                       43.89   \n",
       "3                                       41.17   \n",
       "4                                       36.50   \n",
       "\n",
       "   Apartment (1 bedroom) in City Centre (USD)  \\\n",
       "0                                      742.54   \n",
       "1                                     1091.93   \n",
       "2                                      533.28   \n",
       "3                                      522.40   \n",
       "4                                      229.84   \n",
       "\n",
       "   Apartment (1 bedroom) Outside of Centre (USD)  \\\n",
       "0                                         557.52   \n",
       "1                                         569.88   \n",
       "2                                         317.45   \n",
       "3                                         294.05   \n",
       "4                                         135.31   \n",
       "\n",
       "   Apartment (3 bedrooms) in City Centre (USD)  \\\n",
       "0                                      2669.12   \n",
       "1                                      2952.70   \n",
       "2                                      1242.24   \n",
       "3                                      1411.12   \n",
       "4                                       601.02   \n",
       "\n",
       "   Apartment (3 bedrooms) Outside of Centre (USD)  \\\n",
       "0                                         1731.08   \n",
       "1                                         1561.59   \n",
       "2                                          688.05   \n",
       "3                                          699.80   \n",
       "4                                          329.15   \n",
       "\n",
       "   Price per Square Meter to Buy Apartment in City Centre (USD)  \\\n",
       "0                                           22067.70              \n",
       "1                                           17746.11              \n",
       "2                                           12892.82              \n",
       "3                                            6092.45              \n",
       "4                                            2506.73              \n",
       "\n",
       "   Price per Square Meter to Buy Apartment Outside of Centre (USD)  \\\n",
       "0                                           10971.90                 \n",
       "1                                            9416.35                 \n",
       "2                                            5427.45                 \n",
       "3                                            2777.51                 \n",
       "4                                            1036.74                 \n",
       "\n",
       "   Average Monthly Net Salary (After Tax) (USD)  \\\n",
       "0                                       2689.62   \n",
       "1                                       1419.87   \n",
       "2                                       1211.68   \n",
       "3                                        640.81   \n",
       "4                                        586.46   \n",
       "\n",
       "   Mortgage Interest Rate in Percentages (%), Yearly, for 20 Years Fixed-Rate  \n",
       "0                                               3.47                           \n",
       "1                                               5.03                           \n",
       "2                                               5.19                           \n",
       "3                                               7.96                           \n",
       "4                                               8.06                           \n",
       "\n",
       "[5 rows x 57 columns]"
      ]
     },
     "execution_count": 1,
     "metadata": {},
     "output_type": "execute_result"
    }
   ],
   "source": [
    "import pandas as pd\n",
    "\n",
    "# reading in data and column descriptions\n",
    "dataset = pd.read_csv(\"cost-of-living_v2.csv\")\n",
    "dataset.drop(\"data_quality\", axis=1, inplace=True)\n",
    "\n",
    "desc_df = pd.read_csv(\"headers.csv\", index_col=0, header=None).T\n",
    "desc_df.drop([\"city\", \"country\", \"data_quality\"], axis=1, inplace=True)\n",
    "\n",
    "col_list = desc_df.iloc[0].to_numpy()\n",
    "print(col_list)\n",
    "\n",
    "# renaming columns\n",
    "x_list = [f\"x{i}\" for i in range(1, 56)]\n",
    "col_mapping = {}\n",
    "for i, og_name in enumerate(x_list):\n",
    "    col_mapping[og_name] = col_list[i]\n",
    "dataset = dataset.rename(columns=col_mapping)\n",
    "dataset.head()\n",
    "\n",
    "# desc = desc_df.to_dict(\"records\")[0]\n",
    "# print(desc)\n"
   ]
  },
  {
   "cell_type": "markdown",
   "id": "f0ca7e33",
   "metadata": {},
   "source": [
    "The first demonstration is how to plot a geographical scatter plot. Due to how the `px.scatter_geo` function works, the locations need ISO-3166-1 country codes in the `locations` field. I did a left merge between `dataset` and `geo` (so, `geo` onto `dataset`) to append the country codes and continents for graphing.\n",
    "\n",
    "The advantages of the declarative nature of Plotly is apparent, as the resulting figure can be interacted with easily out of the box."
   ]
  },
  {
   "cell_type": "code",
   "execution_count": 2,
   "id": "886f6e72",
   "metadata": {},
   "outputs": [
    {
     "data": {
      "application/vnd.plotly.v1+json": {
       "config": {
        "plotlyServerURL": "https://plot.ly"
       },
       "data": [
        {
         "geo": "geo",
         "hovertemplate": "<b>%{hovertext}</b><br><br>continent=Asia<br>Meal, Inexpensive Restaurant (USD)=%{marker.size}<br>iso_alpha=%{location}<extra></extra>",
         "hovertext": [
          "Afghanistan",
          "Bahrain",
          "Bangladesh",
          "Cambodia",
          "China",
          "India",
          "Indonesia",
          "Iran",
          "Iraq",
          "Israel",
          "Japan",
          "Jordan",
          "Kuwait",
          "Lebanon",
          "Malaysia",
          "Mongolia",
          "Myanmar",
          "Nepal",
          "Oman",
          "Pakistan",
          "Philippines",
          "Saudi Arabia",
          "Singapore",
          "Sri Lanka",
          "Syria",
          "Taiwan",
          "Thailand",
          "Vietnam"
         ],
         "legendgroup": "Asia",
         "locations": [
          "AFG",
          "BHR",
          "BGD",
          "KHM",
          "CHN",
          "IND",
          "IDN",
          "IRN",
          "IRQ",
          "ISR",
          "JPN",
          "JOR",
          "KWT",
          "LBN",
          "MYS",
          "MNG",
          "MMR",
          "NPL",
          "OMN",
          "PAK",
          "PHL",
          "SAU",
          "SGP",
          "LKA",
          "SYR",
          "TWN",
          "THA",
          "VNM"
         ],
         "marker": {
          "color": "#636efa",
          "size": {
           "bdata": "CtejcD0K+z+/WPKLJb8VQNBpA502UABAKlyPwvUoCkD8GPbH5cIKQCr+SPbKlQJAAiuHFtlO+j+IxYZYbIgSQAR5SpCnhBJAaWlpaWmpMkBHCCX4N1EZQBWuR+F6FBdAUrgehevRFkAAAAAAAAAkQJ7YiZ3YiQNAKVyPwvUoDECF61G4HoUHQJp+qOmHmv4/6LSBThvoE0B4cR46hhfzP/msG0yRzwdAv1jyiyW/GUCuR+F6FC4mQF66SQwCK/c/+cWSXyw5EEDKcwlkDaMLQOJZ0UjAN/0/7YYgulPtAEA=",
           "dtype": "f8"
          },
          "sizemode": "area",
          "sizeref": 0.06382631578947368,
          "symbol": "circle"
         },
         "mode": "markers",
         "name": "Asia",
         "showlegend": true,
         "type": "scattergeo"
        },
        {
         "geo": "geo",
         "hovertemplate": "<b>%{hovertext}</b><br><br>continent=Europe<br>Meal, Inexpensive Restaurant (USD)=%{marker.size}<br>iso_alpha=%{location}<extra></extra>",
         "hovertext": [
          "Albania",
          "Austria",
          "Belgium",
          "Bulgaria",
          "Croatia",
          "Czech Republic",
          "Denmark",
          "Finland",
          "France",
          "Germany",
          "Greece",
          "Hungary",
          "Iceland",
          "Ireland",
          "Italy",
          "Montenegro",
          "Netherlands",
          "Norway",
          "Poland",
          "Portugal",
          "Romania",
          "Serbia",
          "Slovenia",
          "Spain",
          "Sweden",
          "Switzerland",
          "Turkey",
          "United Kingdom"
         ],
         "legendgroup": "Europe",
         "locations": [
          "ALB",
          "AUT",
          "BEL",
          "BGR",
          "HRV",
          "CZE",
          "DNK",
          "FIN",
          "FRA",
          "DEU",
          "GRC",
          "HUN",
          "ISL",
          "IRL",
          "ITA",
          "MNE",
          "NLD",
          "NOR",
          "POL",
          "PRT",
          "ROU",
          "SRB",
          "SVN",
          "ESP",
          "SWE",
          "CHE",
          "TUR",
          "GBR"
         ],
         "marker": {
          "color": "#EF553B",
          "size": {
           "bdata": "16NwPQrXEUAacu6zCwguQNwL3myCyjBAi2zn+6nxHkBddNFFF90eQMUgsHJokRlAj8L1KFyvMUBH9/xXCI4pQC4hH/RsVi9AiMeCA9yQJ0BI4XoUrqcmQIfjcTgehxdA+cWSXyw5L0DARvxrxL8vQGPj/mQOBi5Ax25z7DbHG0C4ss8hNQExQDqSy39IvzJA65q9rtnrGUCKEG9X3TshQLW0tLS0tBpApZRSSimlE0BYCA5pGZ8hQHsPRar3ECdAE/VvhDI6JUCw+5eS0Ic5QPEZdgXIPQZAyTQr5kz8MEA=",
           "dtype": "f8"
          },
          "sizemode": "area",
          "sizeref": 0.06382631578947368,
          "symbol": "circle"
         },
         "mode": "markers",
         "name": "Europe",
         "showlegend": true,
         "type": "scattergeo"
        },
        {
         "geo": "geo",
         "hovertemplate": "<b>%{hovertext}</b><br><br>continent=Africa<br>Meal, Inexpensive Restaurant (USD)=%{marker.size}<br>iso_alpha=%{location}<extra></extra>",
         "hovertext": [
          "Algeria",
          "Angola",
          "Benin",
          "Botswana",
          "Burkina Faso",
          "Burundi",
          "Cameroon",
          "Chad",
          "Djibouti",
          "Egypt",
          "Equatorial Guinea",
          "Eritrea",
          "Ethiopia",
          "Gabon",
          "Gambia",
          "Ghana",
          "Guinea",
          "Guinea-Bissau",
          "Kenya",
          "Liberia",
          "Libya",
          "Madagascar",
          "Malawi",
          "Mali",
          "Mauritania",
          "Mauritius",
          "Morocco",
          "Mozambique",
          "Namibia",
          "Niger",
          "Nigeria",
          "Reunion",
          "Rwanda",
          "Senegal",
          "Sierra Leone",
          "Somalia",
          "South Africa",
          "Sudan",
          "Swaziland",
          "Tanzania",
          "Togo",
          "Tunisia",
          "Uganda",
          "Zambia",
          "Zimbabwe"
         ],
         "legendgroup": "Africa",
         "locations": [
          "DZA",
          "AGO",
          "BEN",
          "BWA",
          "BFA",
          "BDI",
          "CMR",
          "TCD",
          "DJI",
          "EGY",
          "GNQ",
          "ERI",
          "ETH",
          "GAB",
          "GMB",
          "GHA",
          "GIN",
          "GNB",
          "KEN",
          "LBR",
          "LBY",
          "MDG",
          "MWI",
          "MLI",
          "MRT",
          "MUS",
          "MAR",
          "MOZ",
          "NAM",
          "NER",
          "NGA",
          "REU",
          "RWA",
          "SEN",
          "SLE",
          "SOM",
          "ZAF",
          "SDN",
          "SWZ",
          "TZA",
          "TGO",
          "TUN",
          "UGA",
          "ZMB",
          "ZWE"
         ],
         "marker": {
          "color": "#00cc96",
          "size": {
           "bdata": "rkfhehRO/z/sUbgehesyQK5H4XoUrglAERERERERIkCamZmZmZnpPwrXo3A9Cv8/6e9ktbwxBECuR+F6FK4JQArXo3A9iiJAnMAJnMAJCEAzMzMzM7MpQM3MzMzMzCZAI9v5fmq8FEDD9Shcj0IuQFyPwvUoXPM/9P3UeOkmAUAAAAAAAAAUQPYoXI/C9QRAXkBsKg05CEAAAAAAAAApQOj7qfHSTQpA7FG4HoVrAUDd3d3d3d0NQOF6FK5H4RJAUrgehetRFkBmZmZmZuYWQClcj8L1mAVAXY/C9SjcJkAehetRuN4iQBSuR+F6FBBAtGlAmwa09T/Xo3A9ClcgQE8b6LSBTv8/BzptoNMGEEA9CtejcD0RQAAAAAAAAAhAIT0T0jMhH0AAAAAAAAAUQOxRuB6F6whAk18s+cWSDkAUrkfhehQAQJsPYGfcLPw/2s73U+OlAkCBlUOLbOcHQAAAAAAAYBtA",
           "dtype": "f8"
          },
          "sizemode": "area",
          "sizeref": 0.06382631578947368,
          "symbol": "circle"
         },
         "mode": "markers",
         "name": "Africa",
         "showlegend": true,
         "type": "scattergeo"
        },
        {
         "geo": "geo",
         "hovertemplate": "<b>%{hovertext}</b><br><br>continent=Americas<br>Meal, Inexpensive Restaurant (USD)=%{marker.size}<br>iso_alpha=%{location}<extra></extra>",
         "hovertext": [
          "Argentina",
          "Bolivia",
          "Brazil",
          "Canada",
          "Chile",
          "Colombia",
          "Costa Rica",
          "Cuba",
          "Dominican Republic",
          "Ecuador",
          "El Salvador",
          "Guatemala",
          "Haiti",
          "Honduras",
          "Jamaica",
          "Mexico",
          "Nicaragua",
          "Panama",
          "Paraguay",
          "Peru",
          "Puerto Rico",
          "United States",
          "Uruguay",
          "Venezuela"
         ],
         "legendgroup": "Americas",
         "locations": [
          "ARG",
          "BOL",
          "BRA",
          "CAN",
          "CHL",
          "COL",
          "CRI",
          "CUB",
          "DOM",
          "ECU",
          "SLV",
          "GTM",
          "HTI",
          "HND",
          "JAM",
          "MEX",
          "NIC",
          "PAN",
          "PRY",
          "PER",
          "PRI",
          "USA",
          "URY",
          "VEN"
         ],
         "marker": {
          "color": "#ab63fa",
          "size": {
           "bdata": "7+7u7u7uGUCWQ4ts5/sFQIts5/upcRNAX8Jrfg0BL0CW1AloImwaQNRkgDnL5gNAj8L1KFwPGUDkOI7jOI4dQMBY8oslPxdAmZmZmZmZCkAzMzMzMzMQQOJ6FK5H4RRAMzMzMzMzKUD2KFyPwvURQJqZmZmZeRRA9yVoX4L2GkD55tXEs6IPQAAAAAAAABVAGARWDi2yD0C4t7e3t7cHQPOLJb9YsilAEOlyEOkiMUDqh5p+qOkrQD2jCXDWPCFA",
           "dtype": "f8"
          },
          "sizemode": "area",
          "sizeref": 0.06382631578947368,
          "symbol": "circle"
         },
         "mode": "markers",
         "name": "Americas",
         "showlegend": true,
         "type": "scattergeo"
        },
        {
         "geo": "geo",
         "hovertemplate": "<b>%{hovertext}</b><br><br>continent=Oceania<br>Meal, Inexpensive Restaurant (USD)=%{marker.size}<br>iso_alpha=%{location}<extra></extra>",
         "hovertext": [
          "Australia",
          "New Zealand"
         ],
         "legendgroup": "Oceania",
         "locations": [
          "AUS",
          "NZL"
         ],
         "marker": {
          "color": "#FFA15A",
          "size": {
           "bdata": "PeeaQHvWLkCzU7xnKR0uQA==",
           "dtype": "f8"
          },
          "sizemode": "area",
          "sizeref": 0.06382631578947368,
          "symbol": "circle"
         },
         "mode": "markers",
         "name": "Oceania",
         "showlegend": true,
         "type": "scattergeo"
        }
       ],
       "layout": {
        "geo": {
         "center": {},
         "domain": {
          "x": [
           0,
           1
          ],
          "y": [
           0,
           1
          ]
         },
         "projection": {
          "type": "natural earth"
         }
        },
        "legend": {
         "itemsizing": "constant",
         "title": {
          "text": "continent"
         },
         "tracegroupgap": 0
        },
        "margin": {
         "t": 60
        },
        "template": {
         "data": {
          "bar": [
           {
            "error_x": {
             "color": "#2a3f5f"
            },
            "error_y": {
             "color": "#2a3f5f"
            },
            "marker": {
             "line": {
              "color": "#E5ECF6",
              "width": 0.5
             },
             "pattern": {
              "fillmode": "overlay",
              "size": 10,
              "solidity": 0.2
             }
            },
            "type": "bar"
           }
          ],
          "barpolar": [
           {
            "marker": {
             "line": {
              "color": "#E5ECF6",
              "width": 0.5
             },
             "pattern": {
              "fillmode": "overlay",
              "size": 10,
              "solidity": 0.2
             }
            },
            "type": "barpolar"
           }
          ],
          "carpet": [
           {
            "aaxis": {
             "endlinecolor": "#2a3f5f",
             "gridcolor": "white",
             "linecolor": "white",
             "minorgridcolor": "white",
             "startlinecolor": "#2a3f5f"
            },
            "baxis": {
             "endlinecolor": "#2a3f5f",
             "gridcolor": "white",
             "linecolor": "white",
             "minorgridcolor": "white",
             "startlinecolor": "#2a3f5f"
            },
            "type": "carpet"
           }
          ],
          "choropleth": [
           {
            "colorbar": {
             "outlinewidth": 0,
             "ticks": ""
            },
            "type": "choropleth"
           }
          ],
          "contour": [
           {
            "colorbar": {
             "outlinewidth": 0,
             "ticks": ""
            },
            "colorscale": [
             [
              0,
              "#0d0887"
             ],
             [
              0.1111111111111111,
              "#46039f"
             ],
             [
              0.2222222222222222,
              "#7201a8"
             ],
             [
              0.3333333333333333,
              "#9c179e"
             ],
             [
              0.4444444444444444,
              "#bd3786"
             ],
             [
              0.5555555555555556,
              "#d8576b"
             ],
             [
              0.6666666666666666,
              "#ed7953"
             ],
             [
              0.7777777777777778,
              "#fb9f3a"
             ],
             [
              0.8888888888888888,
              "#fdca26"
             ],
             [
              1,
              "#f0f921"
             ]
            ],
            "type": "contour"
           }
          ],
          "contourcarpet": [
           {
            "colorbar": {
             "outlinewidth": 0,
             "ticks": ""
            },
            "type": "contourcarpet"
           }
          ],
          "heatmap": [
           {
            "colorbar": {
             "outlinewidth": 0,
             "ticks": ""
            },
            "colorscale": [
             [
              0,
              "#0d0887"
             ],
             [
              0.1111111111111111,
              "#46039f"
             ],
             [
              0.2222222222222222,
              "#7201a8"
             ],
             [
              0.3333333333333333,
              "#9c179e"
             ],
             [
              0.4444444444444444,
              "#bd3786"
             ],
             [
              0.5555555555555556,
              "#d8576b"
             ],
             [
              0.6666666666666666,
              "#ed7953"
             ],
             [
              0.7777777777777778,
              "#fb9f3a"
             ],
             [
              0.8888888888888888,
              "#fdca26"
             ],
             [
              1,
              "#f0f921"
             ]
            ],
            "type": "heatmap"
           }
          ],
          "histogram": [
           {
            "marker": {
             "pattern": {
              "fillmode": "overlay",
              "size": 10,
              "solidity": 0.2
             }
            },
            "type": "histogram"
           }
          ],
          "histogram2d": [
           {
            "colorbar": {
             "outlinewidth": 0,
             "ticks": ""
            },
            "colorscale": [
             [
              0,
              "#0d0887"
             ],
             [
              0.1111111111111111,
              "#46039f"
             ],
             [
              0.2222222222222222,
              "#7201a8"
             ],
             [
              0.3333333333333333,
              "#9c179e"
             ],
             [
              0.4444444444444444,
              "#bd3786"
             ],
             [
              0.5555555555555556,
              "#d8576b"
             ],
             [
              0.6666666666666666,
              "#ed7953"
             ],
             [
              0.7777777777777778,
              "#fb9f3a"
             ],
             [
              0.8888888888888888,
              "#fdca26"
             ],
             [
              1,
              "#f0f921"
             ]
            ],
            "type": "histogram2d"
           }
          ],
          "histogram2dcontour": [
           {
            "colorbar": {
             "outlinewidth": 0,
             "ticks": ""
            },
            "colorscale": [
             [
              0,
              "#0d0887"
             ],
             [
              0.1111111111111111,
              "#46039f"
             ],
             [
              0.2222222222222222,
              "#7201a8"
             ],
             [
              0.3333333333333333,
              "#9c179e"
             ],
             [
              0.4444444444444444,
              "#bd3786"
             ],
             [
              0.5555555555555556,
              "#d8576b"
             ],
             [
              0.6666666666666666,
              "#ed7953"
             ],
             [
              0.7777777777777778,
              "#fb9f3a"
             ],
             [
              0.8888888888888888,
              "#fdca26"
             ],
             [
              1,
              "#f0f921"
             ]
            ],
            "type": "histogram2dcontour"
           }
          ],
          "mesh3d": [
           {
            "colorbar": {
             "outlinewidth": 0,
             "ticks": ""
            },
            "type": "mesh3d"
           }
          ],
          "parcoords": [
           {
            "line": {
             "colorbar": {
              "outlinewidth": 0,
              "ticks": ""
             }
            },
            "type": "parcoords"
           }
          ],
          "pie": [
           {
            "automargin": true,
            "type": "pie"
           }
          ],
          "scatter": [
           {
            "fillpattern": {
             "fillmode": "overlay",
             "size": 10,
             "solidity": 0.2
            },
            "type": "scatter"
           }
          ],
          "scatter3d": [
           {
            "line": {
             "colorbar": {
              "outlinewidth": 0,
              "ticks": ""
             }
            },
            "marker": {
             "colorbar": {
              "outlinewidth": 0,
              "ticks": ""
             }
            },
            "type": "scatter3d"
           }
          ],
          "scattercarpet": [
           {
            "marker": {
             "colorbar": {
              "outlinewidth": 0,
              "ticks": ""
             }
            },
            "type": "scattercarpet"
           }
          ],
          "scattergeo": [
           {
            "marker": {
             "colorbar": {
              "outlinewidth": 0,
              "ticks": ""
             }
            },
            "type": "scattergeo"
           }
          ],
          "scattergl": [
           {
            "marker": {
             "colorbar": {
              "outlinewidth": 0,
              "ticks": ""
             }
            },
            "type": "scattergl"
           }
          ],
          "scattermap": [
           {
            "marker": {
             "colorbar": {
              "outlinewidth": 0,
              "ticks": ""
             }
            },
            "type": "scattermap"
           }
          ],
          "scattermapbox": [
           {
            "marker": {
             "colorbar": {
              "outlinewidth": 0,
              "ticks": ""
             }
            },
            "type": "scattermapbox"
           }
          ],
          "scatterpolar": [
           {
            "marker": {
             "colorbar": {
              "outlinewidth": 0,
              "ticks": ""
             }
            },
            "type": "scatterpolar"
           }
          ],
          "scatterpolargl": [
           {
            "marker": {
             "colorbar": {
              "outlinewidth": 0,
              "ticks": ""
             }
            },
            "type": "scatterpolargl"
           }
          ],
          "scatterternary": [
           {
            "marker": {
             "colorbar": {
              "outlinewidth": 0,
              "ticks": ""
             }
            },
            "type": "scatterternary"
           }
          ],
          "surface": [
           {
            "colorbar": {
             "outlinewidth": 0,
             "ticks": ""
            },
            "colorscale": [
             [
              0,
              "#0d0887"
             ],
             [
              0.1111111111111111,
              "#46039f"
             ],
             [
              0.2222222222222222,
              "#7201a8"
             ],
             [
              0.3333333333333333,
              "#9c179e"
             ],
             [
              0.4444444444444444,
              "#bd3786"
             ],
             [
              0.5555555555555556,
              "#d8576b"
             ],
             [
              0.6666666666666666,
              "#ed7953"
             ],
             [
              0.7777777777777778,
              "#fb9f3a"
             ],
             [
              0.8888888888888888,
              "#fdca26"
             ],
             [
              1,
              "#f0f921"
             ]
            ],
            "type": "surface"
           }
          ],
          "table": [
           {
            "cells": {
             "fill": {
              "color": "#EBF0F8"
             },
             "line": {
              "color": "white"
             }
            },
            "header": {
             "fill": {
              "color": "#C8D4E3"
             },
             "line": {
              "color": "white"
             }
            },
            "type": "table"
           }
          ]
         },
         "layout": {
          "annotationdefaults": {
           "arrowcolor": "#2a3f5f",
           "arrowhead": 0,
           "arrowwidth": 1
          },
          "autotypenumbers": "strict",
          "coloraxis": {
           "colorbar": {
            "outlinewidth": 0,
            "ticks": ""
           }
          },
          "colorscale": {
           "diverging": [
            [
             0,
             "#8e0152"
            ],
            [
             0.1,
             "#c51b7d"
            ],
            [
             0.2,
             "#de77ae"
            ],
            [
             0.3,
             "#f1b6da"
            ],
            [
             0.4,
             "#fde0ef"
            ],
            [
             0.5,
             "#f7f7f7"
            ],
            [
             0.6,
             "#e6f5d0"
            ],
            [
             0.7,
             "#b8e186"
            ],
            [
             0.8,
             "#7fbc41"
            ],
            [
             0.9,
             "#4d9221"
            ],
            [
             1,
             "#276419"
            ]
           ],
           "sequential": [
            [
             0,
             "#0d0887"
            ],
            [
             0.1111111111111111,
             "#46039f"
            ],
            [
             0.2222222222222222,
             "#7201a8"
            ],
            [
             0.3333333333333333,
             "#9c179e"
            ],
            [
             0.4444444444444444,
             "#bd3786"
            ],
            [
             0.5555555555555556,
             "#d8576b"
            ],
            [
             0.6666666666666666,
             "#ed7953"
            ],
            [
             0.7777777777777778,
             "#fb9f3a"
            ],
            [
             0.8888888888888888,
             "#fdca26"
            ],
            [
             1,
             "#f0f921"
            ]
           ],
           "sequentialminus": [
            [
             0,
             "#0d0887"
            ],
            [
             0.1111111111111111,
             "#46039f"
            ],
            [
             0.2222222222222222,
             "#7201a8"
            ],
            [
             0.3333333333333333,
             "#9c179e"
            ],
            [
             0.4444444444444444,
             "#bd3786"
            ],
            [
             0.5555555555555556,
             "#d8576b"
            ],
            [
             0.6666666666666666,
             "#ed7953"
            ],
            [
             0.7777777777777778,
             "#fb9f3a"
            ],
            [
             0.8888888888888888,
             "#fdca26"
            ],
            [
             1,
             "#f0f921"
            ]
           ]
          },
          "colorway": [
           "#636efa",
           "#EF553B",
           "#00cc96",
           "#ab63fa",
           "#FFA15A",
           "#19d3f3",
           "#FF6692",
           "#B6E880",
           "#FF97FF",
           "#FECB52"
          ],
          "font": {
           "color": "#2a3f5f"
          },
          "geo": {
           "bgcolor": "white",
           "lakecolor": "white",
           "landcolor": "#E5ECF6",
           "showlakes": true,
           "showland": true,
           "subunitcolor": "white"
          },
          "hoverlabel": {
           "align": "left"
          },
          "hovermode": "closest",
          "mapbox": {
           "style": "light"
          },
          "paper_bgcolor": "white",
          "plot_bgcolor": "#E5ECF6",
          "polar": {
           "angularaxis": {
            "gridcolor": "white",
            "linecolor": "white",
            "ticks": ""
           },
           "bgcolor": "#E5ECF6",
           "radialaxis": {
            "gridcolor": "white",
            "linecolor": "white",
            "ticks": ""
           }
          },
          "scene": {
           "xaxis": {
            "backgroundcolor": "#E5ECF6",
            "gridcolor": "white",
            "gridwidth": 2,
            "linecolor": "white",
            "showbackground": true,
            "ticks": "",
            "zerolinecolor": "white"
           },
           "yaxis": {
            "backgroundcolor": "#E5ECF6",
            "gridcolor": "white",
            "gridwidth": 2,
            "linecolor": "white",
            "showbackground": true,
            "ticks": "",
            "zerolinecolor": "white"
           },
           "zaxis": {
            "backgroundcolor": "#E5ECF6",
            "gridcolor": "white",
            "gridwidth": 2,
            "linecolor": "white",
            "showbackground": true,
            "ticks": "",
            "zerolinecolor": "white"
           }
          },
          "shapedefaults": {
           "line": {
            "color": "#2a3f5f"
           }
          },
          "ternary": {
           "aaxis": {
            "gridcolor": "white",
            "linecolor": "white",
            "ticks": ""
           },
           "baxis": {
            "gridcolor": "white",
            "linecolor": "white",
            "ticks": ""
           },
           "bgcolor": "#E5ECF6",
           "caxis": {
            "gridcolor": "white",
            "linecolor": "white",
            "ticks": ""
           }
          },
          "title": {
           "x": 0.05
          },
          "xaxis": {
           "automargin": true,
           "gridcolor": "white",
           "linecolor": "white",
           "ticks": "",
           "title": {
            "standoff": 15
           },
           "zerolinecolor": "white",
           "zerolinewidth": 2
          },
          "yaxis": {
           "automargin": true,
           "gridcolor": "white",
           "linecolor": "white",
           "ticks": "",
           "title": {
            "standoff": 15
           },
           "zerolinecolor": "white",
           "zerolinewidth": 2
          }
         }
        }
       }
      }
     },
     "metadata": {},
     "output_type": "display_data"
    }
   ],
   "source": [
    "import plotly.express as px\n",
    "\n",
    "# reading in a gapminder dataset that contains information for countries necessary for plotting on map\n",
    "geo = px.data.gapminder().query(\"year==2007\")\n",
    "merged = pd.merge(dataset, geo, on=[\"country\"], how=\"left\")\n",
    "\n",
    "\n",
    "mean_df = merged.groupby([\"country\", \"iso_alpha\", \"continent\"])[col_list].mean().reset_index()\n",
    "mean_not_nan = mean_df[mean_df[col_list[0]].notnull()].reset_index(drop=True)\n",
    "mean_not_nan[\"hover\"] = mean_not_nan[\"country\"].astype(str)\n",
    "\n",
    "fig = px.scatter_geo(mean_not_nan, locations=\"iso_alpha\", color=\"continent\",\n",
    "                     hover_name=\"hover\", size=col_list[0],\n",
    "                     projection=\"natural earth\")\n",
    "fig.show()"
   ]
  },
  {
   "cell_type": "markdown",
   "id": "bb5a45c5",
   "metadata": {},
   "source": [
    "Next is a very simple demonstration of Dash. We will use the same data to make the same graph, but this time inside of a basic inline Dash app, adding a title and the ability to select columns to examine from a dropdown menu. The app layout is done using Dash functions that mimic - or more accurately, abstract - HTML. This makes it very simple to style and adjust the layout of the app as a whole. In this case, I have made the background color of the top level `html.Div` white, so that the black text contrasts better. This makes the app more compatible with any dark-mode Jupyter users.\n",
    "\n",
    "Dash uses callbacks to define responses from components. In this example I created a callback with the choropleth figure as an output, while the input is the dropdown value. What this means is that anytime the dropdown value changes, the figure will be updated to reflect that change. Inside the function, I am taking the inputted column name to filter the dataframe accordingly to output the corresponding data on the plot. This provides some very simple but powerful functionality for user interaction."
   ]
  },
  {
   "cell_type": "code",
   "execution_count": null,
   "id": "b571d690",
   "metadata": {},
   "outputs": [
    {
     "data": {
      "text/html": [
       "\n",
       "        <iframe\n",
       "            width=\"40%\"\n",
       "            height=\"620\"\n",
       "            src=\"http://127.0.0.1:8080/\"\n",
       "            frameborder=\"0\"\n",
       "            allowfullscreen\n",
       "            \n",
       "        ></iframe>\n",
       "        "
      ],
      "text/plain": [
       "<IPython.lib.display.IFrame at 0x29448c0a4d0>"
      ]
     },
     "metadata": {},
     "output_type": "display_data"
    }
   ],
   "source": [
    "from dash import Dash, html, dcc, callback, Output, Input\n",
    "import numpy as np\n",
    "\n",
    "app = Dash()\n",
    "\n",
    "app.layout = html.Div(\n",
    "    [\n",
    "        html.H2(children='Cost of Living Dash Demo', style={'textAlign':'center'}),\n",
    "    html.Div([\n",
    "        html.Label(\"Select Column:\"),\n",
    "        dcc.Dropdown(col_list, col_list[0], id='col-dropdown', style={'width':'100%'}),\n",
    "        dcc.Graph(id='choropleth', style={'width':'100%', 'display':'inline-block'}),\n",
    "    ], style={\"padding\": \"10px\"})\n",
    "], style={\"backgroundColor\":\"white\"})\n",
    "\n",
    "@app.callback(\n",
    "    Output('choropleth', 'figure'),\n",
    "    Input('col-dropdown', 'value'))\n",
    "def update_map(col_name):\n",
    "    geo = px.data.gapminder().query(\"year==2007\")\n",
    "    merged = pd.merge(dataset, geo, on=[\"country\"], how=\"left\")\n",
    "\n",
    "    mean_df = merged.groupby([\"country\", \"iso_alpha\", \"continent\"])[col_list].mean().reset_index()\n",
    "    mean_not_nan = mean_df[mean_df[col_name].notnull()].reset_index(drop=True)\n",
    "    mean_not_nan[\"hover\"] = mean_not_nan[\"country\"].astype(str)\n",
    "\n",
    "    fig = px.scatter_geo(mean_not_nan, locations=\"iso_alpha\", color=\"continent\",\n",
    "                        hover_name=\"hover\", size=col_name,\n",
    "                        projection=\"natural earth\")\n",
    "    return fig\n",
    "\n",
    "# using non-default port, otherwise it will interfere with the dashboard\n",
    "app.run(debug=False, port=8080, jupyter_height=620, jupyter_width=\"40%\")"
   ]
  },
  {
   "cell_type": "code",
   "execution_count": null,
   "id": "8b0fa44d",
   "metadata": {},
   "outputs": [],
   "source": []
  }
 ],
 "metadata": {
  "kernelspec": {
   "display_name": "env",
   "language": "python",
   "name": "python3"
  },
  "language_info": {
   "codemirror_mode": {
    "name": "ipython",
    "version": 3
   },
   "file_extension": ".py",
   "mimetype": "text/x-python",
   "name": "python",
   "nbconvert_exporter": "python",
   "pygments_lexer": "ipython3",
   "version": "3.10.11"
  }
 },
 "nbformat": 4,
 "nbformat_minor": 5
}
